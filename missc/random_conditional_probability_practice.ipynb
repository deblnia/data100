{
 "cells": [
  {
   "cell_type": "markdown",
   "metadata": {},
   "source": [
    "# Conditional Probability - Lab\n",
    "_[Original Source](https://github.com/learn-co-curriculum/dsc-conditional-probability-lab)_\n",
    "\n",
    "## Introduction\n",
    "\n",
    "In order to be ready for real-world applications of probability, it is important to understand what happens when probabilities are not independent. Very often, the probability of a certain event depends on other events happening! Let's see how this all works in this lab.\n",
    "\n",
    "## Objectives\n",
    "\n",
    "You will be able to:\n",
    "\n",
    "* Differentiate between independent and dependent events\n",
    "* Use the multiplication rule to find the probability of the intersection of two events"
   ]
  },
  {
   "cell_type": "code",
   "execution_count": 1,
   "metadata": {},
   "outputs": [],
   "source": [
    "import numpy as np "
   ]
  },
  {
   "cell_type": "markdown",
   "metadata": {},
   "source": [
    "## Exercise 1\n",
    "A coin is tossed and a single 6-sided die is rolled. Find the probability of landing on the head side of the coin and rolling a 3 on the die."
   ]
  },
  {
   "cell_type": "code",
   "execution_count": 35,
   "metadata": {},
   "outputs": [
    {
     "name": "stdout",
     "output_type": "stream",
     "text": [
      "0.08377\n"
     ]
    }
   ],
   "source": [
    "cnt = 0 \n",
    "ntrials = 100_000\n",
    "for _ in range(ntrials): \n",
    "    coin_toss = np.random.choice(['H', 'T'])\n",
    "    dice_roll = np.random.choice(range(1,7))\n",
    "    if coin_toss == 'H' and dice_roll == 3: \n",
    "        cnt += 1 \n",
    "        \n",
    "print(float(cnt / ntrials))\n",
    "\n",
    "# can also do this analytically this \n",
    "# coin has p(heads) = 0.5 and dice has p(3) = 1/6 = 0.16 \n",
    "# multiply the two since independent events = 0.083"
   ]
  },
  {
   "cell_type": "markdown",
   "metadata": {},
   "source": [
    "## Exercise 2\n",
    "\n",
    "\n",
    "After conducting a survey, one of the outcomes was that 8 out of 10 of the survey subjects liked chocolate chip cookies. If three survey subjects are chosen at random **with replacement**, what is the probability that all three like chocolate chip cookies?"
   ]
  },
  {
   "cell_type": "code",
   "execution_count": 38,
   "metadata": {},
   "outputs": [
    {
     "name": "stdout",
     "output_type": "stream",
     "text": [
      "0.5146\n"
     ]
    }
   ],
   "source": [
    "cnt = 0\n",
    "trials = 10_000 \n",
    "\n",
    "for _ in range(trials):\n",
    "    choices = np.random.choice([1, 0], size=3, p=[0.8, 0.2])  # 1 = likes, 0 = doesn't like\n",
    "    if np.all(choices == 1):\n",
    "        cnt += 1\n",
    "\n",
    "print(cnt / trials)\n",
    "\n",
    "# analytically - with replacement means each draw is independent \n",
    "# p(like cookie) = 0.8 \n",
    "# three need to like cookie, so 0.8 * 0.8 * 0.8 = 0.512"
   ]
  },
  {
   "cell_type": "markdown",
   "metadata": {},
   "source": [
    "## Exercise 3\n",
    "70% of your friends like chocolate flavored ice cream, and 35% like chocolate AND like strawberry flavors.\n",
    "\n",
    "What percent of those who like chocolate also like strawberry?"
   ]
  },
  {
   "cell_type": "code",
   "execution_count": 42,
   "metadata": {},
   "outputs": [
    {
     "name": "stdout",
     "output_type": "stream",
     "text": [
      "0.5\n"
     ]
    }
   ],
   "source": [
    "p_choc = 0.7 \n",
    "p_choc_and_straw = 0.35 # and is cap ∩\n",
    "\n",
    "print(p_choc_and_straw / p_choc) # of those = denom"
   ]
  },
  {
   "cell_type": "markdown",
   "metadata": {},
   "source": [
    "## Exercise 4\n",
    "What is the probability of drawing 2 consecutive aces from a deck of cards. "
   ]
  },
  {
   "cell_type": "code",
   "execution_count": 47,
   "metadata": {},
   "outputs": [
    {
     "name": "stdout",
     "output_type": "stream",
     "text": [
      "0.004524886877828055\n"
     ]
    }
   ],
   "source": [
    "print((4/52) * (3/51)) \n",
    "# need to multiply because they are dependent events that need to happen in sequence\n",
    "# add if events are mece "
   ]
  },
  {
   "cell_type": "markdown",
   "metadata": {},
   "source": [
    "## Exercise 5\n",
    "In a manufacturing factory that produces a certain product, there are 100 units of the product, 5 of which are defective. We pick three units from the 100 units at random. \n",
    "\n",
    "What is the probability that none of them are defective?\n",
    "Hint: Use the chain rule here!"
   ]
  },
  {
   "cell_type": "code",
   "execution_count": 49,
   "metadata": {},
   "outputs": [
    {
     "name": "stdout",
     "output_type": "stream",
     "text": [
      "0.8559987631416203\n"
     ]
    }
   ],
   "source": [
    "# complement would be at least one is broken, i.e. 1 - \n",
    "print(((95/100) * (94/99) * (93/98)))"
   ]
  },
  {
   "cell_type": "markdown",
   "metadata": {},
   "source": [
    "## Exercise 6\n",
    "\n",
    "Let's consider the example where 2 dice are thrown. Given that **at least one** of the die has come up on a number higher than 4, what is the probability that the sum is 8?\n",
    "\n",
    "Let $i,j$ be the numbers shown on the dice. The events $A$ and $B$ are described below:\n",
    "\n",
    "* **Event $A$ is when either $i$ or $j$ is 5 or 6** (keep an eye on either - or)\n",
    "* **Event $B$ is when $i + j = 8$**\n",
    "\n",
    "\n",
    "* What is the size of sample space $\\Omega$ ?\n",
    "* What is $P(A \\cap B)$ ?\n",
    "* What is $P(A)$ ?\n",
    "* Use above to calculate $P(B \\mid A)$"
   ]
  },
  {
   "cell_type": "code",
   "execution_count": 65,
   "metadata": {},
   "outputs": [
    {
     "name": "stdout",
     "output_type": "stream",
     "text": [
      "0.031\n",
      "0.3333333333333333\n"
     ]
    }
   ],
   "source": [
    "# two dice, at least one higher than 4 p(dice_1 + dice_2 = 8)\n",
    "cnt = 0 \n",
    "for _ in range(0 , 10_000):\n",
    "    dice_1 = np.random.choice(range(1, 7))\n",
    "    dice_2 = np.random.choice(range(1, 7))\n",
    "\n",
    "    if dice_1 == 4 and (dice_1 + dice_2 == 8):\n",
    "        cnt += 1 \n",
    "\n",
    "print(cnt / 10_000)\n",
    "\n",
    "# sample space is 6 (one die) * 6 (other die) = 36 potential outcomes \n",
    "\n",
    "# P(A and B) = \n",
    "# i + j = 8 => (2,6),(3,5),(4,4),(5,3),(6,2)\n",
    "# at least one die is 5 or 6 => (2,6),(3,5),(5,3),(6,2)\n",
    "# so 4 /36 = 1 / 9 \n",
    "\n",
    "# P(A) = 2/6 = 1/3 \n",
    "\n",
    "\n",
    "# P(B | A) \n",
    "print((1/9) / (1/3))"
   ]
  },
  {
   "cell_type": "markdown",
   "metadata": {},
   "source": [
    "## Exercise 7\n",
    "\n",
    "Let's consider a credit card example. At a supermarket, customers are selected randomly, the store owner recorded whether costumers owned a Visa card (event A) or an Amex credit card (event B). Some customers own both cards.\n",
    "You can assume that:\n",
    "\n",
    "- $P(A)$ = 0.5\n",
    "- $P(B)$ = 0.4\n",
    "- both $A$ and $B$ = 0.25.\n",
    "\n",
    "\n",
    "With the knowledge we have about conditional probabilities, compute and interpret the following probabilities:\n",
    "\n",
    "- $P(B \\mid A)$\n",
    "- $P(B' \\mid A)$\n",
    "- $P(A \\mid B)$\n",
    "- $P(A' \\mid B)$\n"
   ]
  },
  {
   "cell_type": "code",
   "execution_count": 71,
   "metadata": {},
   "outputs": [
    {
     "name": "stdout",
     "output_type": "stream",
     "text": [
      "0.5\n",
      "0.5\n",
      "0.625\n",
      "0.375\n"
     ]
    }
   ],
   "source": [
    "# p(b | a)\n",
    "q1 = 0.25 / 0.5\n",
    "print(q1)\n",
    "\n",
    "# p(\\b | a) = 1 - p(b | a)\n",
    "q2 = 1 - q1\n",
    "print(q2)\n",
    "\n",
    "# p(a | b) \n",
    "q3 = 0.25 / 0.4\n",
    "print(q3)\n",
    "\n",
    "# p(\\a | b)\n",
    "q4 = 1 - q3\n",
    "print(q4)\n"
   ]
  },
  {
   "cell_type": "markdown",
   "metadata": {},
   "source": [
    "## Summary \n",
    "\n",
    "In this lab, you practiced conditional probability and its theorem with some simple problems. The key takeaway from this lab is to be able to identify random events as dependent or independent and calculating the probability of their occurrence using appropriate methods. Next, you'll learn about some more conditional probability axioms, building on the knowledge we have so far. "
   ]
  }
 ],
 "metadata": {
  "kernelspec": {
   "display_name": "data100",
   "language": "python",
   "name": "python3"
  },
  "language_info": {
   "codemirror_mode": {
    "name": "ipython",
    "version": 3
   },
   "file_extension": ".py",
   "mimetype": "text/x-python",
   "name": "python",
   "nbconvert_exporter": "python",
   "pygments_lexer": "ipython3",
   "version": "3.13.1"
  },
  "toc": {
   "base_numbering": 1,
   "nav_menu": {},
   "number_sections": true,
   "sideBar": true,
   "skip_h1_title": false,
   "title_cell": "Table of Contents",
   "title_sidebar": "Contents",
   "toc_cell": false,
   "toc_position": {},
   "toc_section_display": true,
   "toc_window_display": false
  }
 },
 "nbformat": 4,
 "nbformat_minor": 2
}
